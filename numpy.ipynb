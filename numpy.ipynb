{
 "cells": [
  {
   "cell_type": "code",
   "execution_count": 1,
   "id": "085f41e6",
   "metadata": {},
   "outputs": [],
   "source": [
    "#import numpy\n",
    "import numpy as np"
   ]
  },
  {
   "cell_type": "code",
   "execution_count": 2,
   "id": "341d4fe1",
   "metadata": {},
   "outputs": [],
   "source": [
    "#array one dimensional\n",
    "a=[1,2,3,4,5]\n",
    "#array two dimensional\n",
    "b=[1,2,3,4],[5,6,7,8]"
   ]
  },
  {
   "cell_type": "code",
   "execution_count": 3,
   "id": "0ed20edf",
   "metadata": {},
   "outputs": [],
   "source": [
    "#array changing\n",
    "arr= np.array(a)\n",
    "brr=np.array(b)"
   ]
  },
  {
   "cell_type": "code",
   "execution_count": 4,
   "id": "2e2d1e24",
   "metadata": {},
   "outputs": [
    {
     "data": {
      "text/plain": [
       "array([[1, 2, 3, 4],\n",
       "       [5, 6, 7, 8]])"
      ]
     },
     "execution_count": 4,
     "metadata": {},
     "output_type": "execute_result"
    }
   ],
   "source": [
    "brr"
   ]
  },
  {
   "cell_type": "code",
   "execution_count": 5,
   "id": "ecdb3992",
   "metadata": {},
   "outputs": [
    {
     "data": {
      "text/plain": [
       "numpy.ndarray"
      ]
     },
     "execution_count": 5,
     "metadata": {},
     "output_type": "execute_result"
    }
   ],
   "source": [
    "type(arr)\n",
    "type(brr)"
   ]
  },
  {
   "cell_type": "code",
   "execution_count": 6,
   "id": "3a397d96",
   "metadata": {},
   "outputs": [
    {
     "data": {
      "text/plain": [
       "2"
      ]
     },
     "execution_count": 6,
     "metadata": {},
     "output_type": "execute_result"
    }
   ],
   "source": [
    "#ndim dimension of array\n",
    "brr.ndim"
   ]
  },
  {
   "cell_type": "code",
   "execution_count": 7,
   "id": "c4d97666",
   "metadata": {},
   "outputs": [
    {
     "data": {
      "text/plain": [
       "([1, 2, 3, 4], [5, 6, 7, 8])"
      ]
     },
     "execution_count": 7,
     "metadata": {},
     "output_type": "execute_result"
    }
   ],
   "source": [
    "b"
   ]
  },
  {
   "cell_type": "code",
   "execution_count": 8,
   "id": "136753e9",
   "metadata": {},
   "outputs": [
    {
     "data": {
      "text/plain": [
       "array([1, 2, 3, 4, 5])"
      ]
     },
     "execution_count": 8,
     "metadata": {},
     "output_type": "execute_result"
    }
   ],
   "source": [
    "arr"
   ]
  },
  {
   "cell_type": "code",
   "execution_count": 9,
   "id": "83138c82",
   "metadata": {},
   "outputs": [],
   "source": [
    "arr[0]=500"
   ]
  },
  {
   "cell_type": "code",
   "execution_count": 10,
   "id": "5c666737",
   "metadata": {},
   "outputs": [
    {
     "data": {
      "text/plain": [
       "[1, 2, 3, 4, 5]"
      ]
     },
     "execution_count": 10,
     "metadata": {},
     "output_type": "execute_result"
    }
   ],
   "source": [
    "a"
   ]
  },
  {
   "cell_type": "code",
   "execution_count": 11,
   "id": "64a0fbfc",
   "metadata": {},
   "outputs": [],
   "source": [
    "np.copy(a)\n",
    "a=arr\n",
    "arr[0]=600"
   ]
  },
  {
   "cell_type": "code",
   "execution_count": 58,
   "id": "d4e82817",
   "metadata": {},
   "outputs": [
    {
     "ename": "TypeError",
     "evalue": "'float' object cannot be interpreted as an integer",
     "output_type": "error",
     "traceback": [
      "\u001b[1;31m---------------------------------------------------------------------------\u001b[0m",
      "\u001b[1;31mTypeError\u001b[0m                                 Traceback (most recent call last)",
      "Cell \u001b[1;32mIn[58], line 2\u001b[0m\n\u001b[0;32m      1\u001b[0m \u001b[38;5;66;03m# error accor this function\u001b[39;00m\n\u001b[1;32m----> 2\u001b[0m \u001b[38;5;28mlist\u001b[39m(\u001b[38;5;28mrange\u001b[39m(\u001b[38;5;241m1\u001b[39m,\u001b[38;5;241m10\u001b[39m,\u001b[38;5;241m0.2\u001b[39m))\n",
      "\u001b[1;31mTypeError\u001b[0m: 'float' object cannot be interpreted as an integer"
     ]
    }
   ],
   "source": [
    "# error accor this function\n",
    "#list(range(1,10,0.2))"
   ]
  },
  {
   "cell_type": "code",
   "execution_count": 13,
   "id": "cde7e5d9",
   "metadata": {},
   "outputs": [
    {
     "data": {
      "text/plain": [
       "[0.4,\n",
       " 1.4,\n",
       " 2.4,\n",
       " 3.3999999999999995,\n",
       " 4.3999999999999995,\n",
       " 5.3999999999999995,\n",
       " 6.3999999999999995,\n",
       " 7.3999999999999995,\n",
       " 8.399999999999999,\n",
       " 9.399999999999999]"
      ]
     },
     "execution_count": 13,
     "metadata": {},
     "output_type": "execute_result"
    }
   ],
   "source": [
    "#0.4 varlues not take in the range function use np.arange\n",
    "list(np.arange(0.4,10.4,1))"
   ]
  },
  {
   "cell_type": "code",
   "execution_count": 62,
   "id": "ee8d8824",
   "metadata": {},
   "outputs": [
    {
     "data": {
      "text/plain": [
       "[1.0,\n",
       " 1.4444444444444444,\n",
       " 1.8888888888888888,\n",
       " 2.333333333333333,\n",
       " 2.7777777777777777,\n",
       " 3.2222222222222223,\n",
       " 3.6666666666666665,\n",
       " 4.111111111111111,\n",
       " 4.555555555555555,\n",
       " 5.0]"
      ]
     },
     "execution_count": 62,
     "metadata": {},
     "output_type": "execute_result"
    }
   ],
   "source": [
    "# sample data set of an 15 data point to preparing\n",
    "list(np.linspace(1,5,10))"
   ]
  },
  {
   "cell_type": "code",
   "execution_count": 15,
   "id": "750faf52",
   "metadata": {},
   "outputs": [
    {
     "data": {
      "text/plain": [
       "[10.0,\n",
       " 27.825594022071243,\n",
       " 77.4263682681127,\n",
       " 215.44346900318823,\n",
       " 599.4842503189409,\n",
       " 1668.100537200059,\n",
       " 4641.588833612777,\n",
       " 12915.496650148827,\n",
       " 35938.13663804626,\n",
       " 100000.0]"
      ]
     },
     "execution_count": 15,
     "metadata": {},
     "output_type": "execute_result"
    }
   ],
   "source": [
    "#log of the particular things sample of an range\n",
    "list(np.logspace(1,5,10))"
   ]
  },
  {
   "cell_type": "code",
   "execution_count": 64,
   "id": "2015ec86",
   "metadata": {},
   "outputs": [
    {
     "data": {
      "text/plain": [
       "array([0., 0., 0., 0., 0.])"
      ]
     },
     "execution_count": 64,
     "metadata": {},
     "output_type": "execute_result"
    }
   ],
   "source": [
    "#assending of an zeros and ones\n",
    "np.zeros(5)"
   ]
  },
  {
   "cell_type": "code",
   "execution_count": 66,
   "id": "5fe1c0f5",
   "metadata": {},
   "outputs": [
    {
     "data": {
      "text/plain": [
       "array([[[0., 0.],\n",
       "        [0., 0.],\n",
       "        [0., 0.],\n",
       "        [0., 0.]],\n",
       "\n",
       "       [[0., 0.],\n",
       "        [0., 0.],\n",
       "        [0., 0.],\n",
       "        [0., 0.]],\n",
       "\n",
       "       [[0., 0.],\n",
       "        [0., 0.],\n",
       "        [0., 0.],\n",
       "        [0., 0.]]])"
      ]
     },
     "execution_count": 66,
     "metadata": {},
     "output_type": "execute_result"
    }
   ],
   "source": [
    "np.zeros((3,4,2))"
   ]
  },
  {
   "cell_type": "code",
   "execution_count": 18,
   "id": "262f6c68",
   "metadata": {},
   "outputs": [
    {
     "data": {
      "text/plain": [
       "array([1., 1., 1., 1., 1.])"
      ]
     },
     "execution_count": 18,
     "metadata": {},
     "output_type": "execute_result"
    }
   ],
   "source": [
    "#arrray form ones\n",
    "np.ones(5)"
   ]
  },
  {
   "cell_type": "code",
   "execution_count": 19,
   "id": "f1ec2fc2",
   "metadata": {},
   "outputs": [
    {
     "data": {
      "text/plain": [
       "array([[1., 1., 1., 1., 1.],\n",
       "       [1., 1., 1., 1., 1.],\n",
       "       [1., 1., 1., 1., 1.]])"
      ]
     },
     "execution_count": 19,
     "metadata": {},
     "output_type": "execute_result"
    }
   ],
   "source": [
    "#array from\n",
    "np.ones((3,5))"
   ]
  },
  {
   "cell_type": "code",
   "execution_count": 20,
   "id": "2c20dd72",
   "metadata": {},
   "outputs": [
    {
     "data": {
      "text/plain": [
       "(5,)"
      ]
     },
     "execution_count": 20,
     "metadata": {},
     "output_type": "execute_result"
    }
   ],
   "source": [
    "arr.shape"
   ]
  },
  {
   "cell_type": "code",
   "execution_count": 21,
   "id": "68de2c8d",
   "metadata": {
    "scrolled": true
   },
   "outputs": [
    {
     "data": {
      "text/plain": [
       "5"
      ]
     },
     "execution_count": 21,
     "metadata": {},
     "output_type": "execute_result"
    }
   ],
   "source": [
    "arr.size"
   ]
  },
  {
   "cell_type": "code",
   "execution_count": 22,
   "id": "831fc2d3",
   "metadata": {},
   "outputs": [
    {
     "name": "stdout",
     "output_type": "stream",
     "text": [
      "[ 0.65714261 -1.06432468  0.17399703  0.32847587  0.55824988 -1.75009917\n",
      "  0.19302931  1.67962666  0.53093253  0.10063237]\n"
     ]
    }
   ],
   "source": [
    "list3=np.random.randn(10)\n",
    "print(list3)"
   ]
  },
  {
   "cell_type": "code",
   "execution_count": 23,
   "id": "ab8c830a",
   "metadata": {},
   "outputs": [],
   "source": [
    "list1=np.random.rand(10)\n",
    "list2=np.random.rand(10)"
   ]
  },
  {
   "cell_type": "code",
   "execution_count": 67,
   "id": "975e1fb7",
   "metadata": {},
   "outputs": [
    {
     "data": {
      "text/plain": [
       "array([0.39842053, 0.65051353, 0.24565354, 0.13731181, 0.92561001,\n",
       "       0.35460697, 0.49452814, 0.06394038, 0.56477488, 0.55831465])"
      ]
     },
     "execution_count": 67,
     "metadata": {},
     "output_type": "execute_result"
    }
   ],
   "source": [
    "list1"
   ]
  },
  {
   "cell_type": "code",
   "execution_count": 24,
   "id": "9ee19239",
   "metadata": {},
   "outputs": [
    {
     "name": "stdout",
     "output_type": "stream",
     "text": [
      "[0.69610973 0.6728745  0.97788429 0.53539405 1.78951697 0.82450427\n",
      " 1.24844715 0.46896694 1.27244    0.72647243]\n"
     ]
    }
   ],
   "source": [
    "add=np.add(list1,list2)\n",
    "print(add)"
   ]
  },
  {
   "cell_type": "code",
   "execution_count": 25,
   "id": "3a4dcd5a",
   "metadata": {},
   "outputs": [
    {
     "name": "stdout",
     "output_type": "stream",
     "text": [
      "[ 0.10073133  0.62815256 -0.4865772  -0.26077042  0.06170305 -0.11529034\n",
      " -0.25939088 -0.34108618 -0.14289024  0.39015687]\n"
     ]
    }
   ],
   "source": [
    "sub=np.subtract(list1,list2)\n",
    "print(sub)"
   ]
  },
  {
   "cell_type": "code",
   "execution_count": 26,
   "id": "03776ee5",
   "metadata": {},
   "outputs": [
    {
     "name": "stdout",
     "output_type": "stream",
     "text": [
      "[0.11860549 0.01454612 0.17987508 0.05466139 0.79964093 0.16662886\n",
      " 0.37283416 0.02589755 0.39967148 0.09388495]\n"
     ]
    }
   ],
   "source": [
    "mul=np.multiply(list1,list2)\n",
    "print(mul)"
   ]
  },
  {
   "cell_type": "code",
   "execution_count": 27,
   "id": "57e7c14f",
   "metadata": {},
   "outputs": [
    {
     "name": "stdout",
     "output_type": "stream",
     "text": [
      "[ 1.33837751 29.09146598  0.33548652  0.34493328  1.07142326  0.75464779\n",
      "  0.65594332  0.15786713  0.79808212  3.32018324]\n"
     ]
    }
   ],
   "source": [
    "div=np.divide(list1,list2)\n",
    "print(div)"
   ]
  },
  {
   "cell_type": "code",
   "execution_count": 28,
   "id": "30240300",
   "metadata": {},
   "outputs": [
    {
     "name": "stdout",
     "output_type": "stream",
     "text": [
      "2.226246009532818\n"
     ]
    }
   ],
   "source": [
    "dot=np.dot(list1,list2)#dot function matrix multiply\n",
    "print(dot)"
   ]
  },
  {
   "cell_type": "code",
   "execution_count": 29,
   "id": "8d59108f",
   "metadata": {},
   "outputs": [
    {
     "data": {
      "text/plain": [
       "1.4142135623730951"
      ]
     },
     "execution_count": 29,
     "metadata": {},
     "output_type": "execute_result"
    }
   ],
   "source": [
    "np.sqrt(2)"
   ]
  },
  {
   "cell_type": "code",
   "execution_count": 30,
   "id": "e7948c2a",
   "metadata": {},
   "outputs": [
    {
     "data": {
      "text/plain": [
       "2.302585092994046"
      ]
     },
     "execution_count": 30,
     "metadata": {},
     "output_type": "execute_result"
    }
   ],
   "source": [
    "np.log(10)"
   ]
  },
  {
   "cell_type": "code",
   "execution_count": 31,
   "id": "ef6fe440",
   "metadata": {},
   "outputs": [
    {
     "data": {
      "text/plain": [
       "1"
      ]
     },
     "execution_count": 31,
     "metadata": {},
     "output_type": "execute_result"
    }
   ],
   "source": [
    "np.abs(-1)# absolute values"
   ]
  },
  {
   "cell_type": "code",
   "execution_count": 32,
   "id": "ec5fd06f",
   "metadata": {},
   "outputs": [
    {
     "data": {
      "text/plain": [
       "4"
      ]
     },
     "execution_count": 32,
     "metadata": {},
     "output_type": "execute_result"
    }
   ],
   "source": [
    "np.power(2,2) #power root"
   ]
  },
  {
   "cell_type": "code",
   "execution_count": 33,
   "id": "2aca2aa0",
   "metadata": {},
   "outputs": [
    {
     "data": {
      "text/plain": [
       "0.06394038069815167"
      ]
     },
     "execution_count": 33,
     "metadata": {},
     "output_type": "execute_result"
    }
   ],
   "source": [
    "np.min(list1)"
   ]
  },
  {
   "cell_type": "code",
   "execution_count": 70,
   "id": "419e1a24",
   "metadata": {},
   "outputs": [
    {
     "data": {
      "text/plain": [
       "4"
      ]
     },
     "execution_count": 70,
     "metadata": {},
     "output_type": "execute_result"
    }
   ],
   "source": [
    "np.argmax(list1)# idexing of the maximum value min function also available"
   ]
  },
  {
   "cell_type": "code",
   "execution_count": 69,
   "id": "dc409700",
   "metadata": {},
   "outputs": [
    {
     "data": {
      "text/plain": [
       "7"
      ]
     },
     "execution_count": 69,
     "metadata": {},
     "output_type": "execute_result"
    }
   ],
   "source": [
    "np.argmin(list1)"
   ]
  },
  {
   "cell_type": "code",
   "execution_count": 35,
   "id": "1a4bdd01",
   "metadata": {},
   "outputs": [],
   "source": [
    "list4=np.random.rand(4,3)"
   ]
  },
  {
   "cell_type": "code",
   "execution_count": 36,
   "id": "44881f93",
   "metadata": {},
   "outputs": [
    {
     "data": {
      "text/plain": [
       "(4, 3)"
      ]
     },
     "execution_count": 36,
     "metadata": {},
     "output_type": "execute_result"
    }
   ],
   "source": [
    "np.shape(list4)"
   ]
  },
  {
   "cell_type": "code",
   "execution_count": 37,
   "id": "66a19e05",
   "metadata": {},
   "outputs": [
    {
     "data": {
      "text/plain": [
       "array([[0.20781216, 0.1763565 ],\n",
       "       [0.703951  , 0.21479163],\n",
       "       [0.07406997, 0.1467455 ],\n",
       "       [0.9809591 , 0.69414196],\n",
       "       [0.38077276, 0.3978147 ],\n",
       "       [0.58899653, 0.04109869]])"
      ]
     },
     "execution_count": 37,
     "metadata": {},
     "output_type": "execute_result"
    }
   ],
   "source": [
    "np.reshape(list4,(6,2))#reshape the values shape function"
   ]
  },
  {
   "cell_type": "code",
   "execution_count": 72,
   "id": "08483320",
   "metadata": {},
   "outputs": [
    {
     "name": "stdout",
     "output_type": "stream",
     "text": [
      "[[[0.80516891 0.25652025]\n",
      "  [0.99717296 0.45587412]\n",
      "  [0.07885287 0.14414149]\n",
      "  [0.04775426 0.94314128]]\n",
      "\n",
      " [[0.39406774 0.32060916]\n",
      "  [0.81789051 0.15420544]\n",
      "  [0.26293394 0.47098875]\n",
      "  [0.86453617 0.19656579]]\n",
      "\n",
      " [[0.31079908 0.30070358]\n",
      "  [0.22678884 0.66346996]\n",
      "  [0.15648595 0.00629375]\n",
      "  [0.1396806  0.93596908]]]\n"
     ]
    }
   ],
   "source": [
    "list5=np.random.rand(3,4,2)#3,first value 4,2 ismatrix\n",
    "print(list5)"
   ]
  },
  {
   "cell_type": "code",
   "execution_count": 39,
   "id": "e7a6e092",
   "metadata": {},
   "outputs": [],
   "source": [
    "a=[1,2,3,4,5]"
   ]
  },
  {
   "cell_type": "code",
   "execution_count": 40,
   "id": "a728762c",
   "metadata": {},
   "outputs": [],
   "source": [
    "ab=np.array(a)"
   ]
  },
  {
   "cell_type": "code",
   "execution_count": 41,
   "id": "cd09c090",
   "metadata": {},
   "outputs": [
    {
     "data": {
      "text/plain": [
       "1"
      ]
     },
     "execution_count": 41,
     "metadata": {},
     "output_type": "execute_result"
    }
   ],
   "source": [
    "a[0]"
   ]
  },
  {
   "cell_type": "code",
   "execution_count": 42,
   "id": "8fbdeca5",
   "metadata": {},
   "outputs": [
    {
     "data": {
      "text/plain": [
       "[2, 3]"
      ]
     },
     "execution_count": 42,
     "metadata": {},
     "output_type": "execute_result"
    }
   ],
   "source": [
    "a[1:3]"
   ]
  },
  {
   "cell_type": "code",
   "execution_count": 43,
   "id": "a420e18f",
   "metadata": {},
   "outputs": [
    {
     "data": {
      "text/plain": [
       "5"
      ]
     },
     "execution_count": 43,
     "metadata": {},
     "output_type": "execute_result"
    }
   ],
   "source": [
    "a[-1]"
   ]
  },
  {
   "cell_type": "code",
   "execution_count": 44,
   "id": "5b2aa232",
   "metadata": {},
   "outputs": [
    {
     "data": {
      "text/plain": [
       "[5, 4, 3, 2, 1]"
      ]
     },
     "execution_count": 44,
     "metadata": {},
     "output_type": "execute_result"
    }
   ],
   "source": [
    "a[::-1]"
   ]
  },
  {
   "cell_type": "code",
   "execution_count": 45,
   "id": "08ff0e0c",
   "metadata": {},
   "outputs": [],
   "source": [
    "l1=[1,2,3,4,5],[5,6,7,8,9],[1,3,5,7,9]"
   ]
  },
  {
   "cell_type": "code",
   "execution_count": 46,
   "id": "7ba66c9c",
   "metadata": {},
   "outputs": [],
   "source": [
    "ac=np.array(l1)"
   ]
  },
  {
   "cell_type": "code",
   "execution_count": 47,
   "id": "ff3b99f5",
   "metadata": {},
   "outputs": [
    {
     "data": {
      "text/plain": [
       "array([[1, 2, 3, 4, 5],\n",
       "       [5, 6, 7, 8, 9],\n",
       "       [1, 3, 5, 7, 9]])"
      ]
     },
     "execution_count": 47,
     "metadata": {},
     "output_type": "execute_result"
    }
   ],
   "source": [
    "ac"
   ]
  },
  {
   "cell_type": "code",
   "execution_count": 48,
   "id": "69a966e4",
   "metadata": {},
   "outputs": [
    {
     "data": {
      "text/plain": [
       "array([4, 8, 7])"
      ]
     },
     "execution_count": 48,
     "metadata": {},
     "output_type": "execute_result"
    }
   ],
   "source": [
    "ac[:,3]#one dimensional values"
   ]
  },
  {
   "cell_type": "code",
   "execution_count": 49,
   "id": "18339ebe",
   "metadata": {},
   "outputs": [
    {
     "data": {
      "text/plain": [
       "array([[6, 7],\n",
       "       [3, 5]])"
      ]
     },
     "execution_count": 49,
     "metadata": {},
     "output_type": "execute_result"
    }
   ],
   "source": [
    "ac[1:,1:3] #two dimensional"
   ]
  },
  {
   "cell_type": "code",
   "execution_count": 50,
   "id": "f927a6bc",
   "metadata": {},
   "outputs": [
    {
     "data": {
      "text/plain": [
       "array([[8, 9],\n",
       "       [7, 9]])"
      ]
     },
     "execution_count": 50,
     "metadata": {},
     "output_type": "execute_result"
    }
   ],
   "source": [
    "ac[1:,3:5]"
   ]
  },
  {
   "cell_type": "code",
   "execution_count": 51,
   "id": "b08c9eda",
   "metadata": {},
   "outputs": [
    {
     "data": {
      "text/plain": [
       "array([[4, 5],\n",
       "       [8, 9]])"
      ]
     },
     "execution_count": 51,
     "metadata": {},
     "output_type": "execute_result"
    }
   ],
   "source": [
    "ac[:2,3:5]"
   ]
  },
  {
   "cell_type": "code",
   "execution_count": 52,
   "id": "acf3e7a5",
   "metadata": {},
   "outputs": [
    {
     "data": {
      "text/plain": [
       "[[1, 2, 3, 4, 5], [5, 6, 7, 8, 9], [1, 3, 5, 7, 9]]"
      ]
     },
     "execution_count": 52,
     "metadata": {},
     "output_type": "execute_result"
    }
   ],
   "source": [
    "ac.tolist() #tolist is the line wise view"
   ]
  },
  {
   "cell_type": "code",
   "execution_count": 53,
   "id": "8d7ed421",
   "metadata": {},
   "outputs": [],
   "source": [
    "# np.fromstring(ac.tostring())"
   ]
  },
  {
   "cell_type": "code",
   "execution_count": 54,
   "id": "37befce4",
   "metadata": {},
   "outputs": [
    {
     "data": {
      "text/plain": [
       "array([1, 2, 3, 4, 5, 5, 6, 7, 8, 9, 1, 3, 5, 7, 9])"
      ]
     },
     "execution_count": 54,
     "metadata": {},
     "output_type": "execute_result"
    }
   ],
   "source": [
    "ac.flatten() #flat array all are come in flat 1,2,3"
   ]
  }
 ],
 "metadata": {
  "kernelspec": {
   "display_name": "Python 3 (ipykernel)",
   "language": "python",
   "name": "python3"
  },
  "language_info": {
   "codemirror_mode": {
    "name": "ipython",
    "version": 3
   },
   "file_extension": ".py",
   "mimetype": "text/x-python",
   "name": "python",
   "nbconvert_exporter": "python",
   "pygments_lexer": "ipython3",
   "version": "3.11.5"
  }
 },
 "nbformat": 4,
 "nbformat_minor": 5
}
